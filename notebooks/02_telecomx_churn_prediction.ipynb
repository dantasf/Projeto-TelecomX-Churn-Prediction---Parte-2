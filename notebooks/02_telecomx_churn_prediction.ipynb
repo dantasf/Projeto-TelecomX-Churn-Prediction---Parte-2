{
 "cells": [
  {
   "cell_type": "markdown",
   "id": "db79a10a",
   "metadata": {},
   "source": [
    "# Telecom X — Parte 2: Prevendo Churn\n",
    "\n",
    "Notebook de modelagem. Coloque o CSV em ../data/telecomx_processed.csv\n"
   ]
  },
  {
   "cell_type": "markdown",
   "id": "9b0fe324",
   "metadata": {},
   "source": [
    "O notebook contém células para: carregamento, pré-processamento, análise de correlação, split, SMOTE opcional, treino de Logistic e RandomForest, avaliação e análise de importância."
   ]
  }
 ],
 "metadata": {},
 "nbformat": 4,
 "nbformat_minor": 5
}
